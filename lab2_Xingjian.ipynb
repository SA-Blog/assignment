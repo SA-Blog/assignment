{
 "cells": [
  {
   "cell_type": "code",
   "execution_count": 124,
   "id": "071ab2da",
   "metadata": {},
   "outputs": [],
   "source": [
    "import numpy as np#\n",
    "from math import log, exp, sqrt, pi\n",
    "import statistics\n",
    "def calc_stat (lst):\n",
    "    mean = sum(lst)/float(len(lst))\n",
    "    if len(lst) == 1:\n",
    "        std = 0\n",
    "    else:\n",
    "        std = statistics.stdev(lst)\n",
    "    return mean, std, len(lst)"
   ]
  },
  {
   "cell_type": "code",
   "execution_count": 125,
   "id": "6c1e0430",
   "metadata": {},
   "outputs": [],
   "source": [
    "class NBC():\n",
    "    def __init__(self, feature_types, num_classes):\n",
    "        self.feature_types = feature_types\n",
    "        self.num_c = num_classes\n",
    "        self.num_f = len(feature_types)\n",
    "        \n",
    "    def fit (self, X, y):\n",
    "        self.separate(X, y)\n",
    "        self.model_class_distribution()\n",
    "    \n",
    "    def predict_C(self, Xi, c):\n",
    "        pos = log(self.classes_casenum[c])\n",
    "        for f in range(self.num_f):\n",
    "            pos += self.calc_prob(c, f, Xi[f])\n",
    "        return pos\n",
    "    \n",
    "    def predict_i (self, Xi):\n",
    "        choices = list(self.predict_C(Xi, c) for c in range (self.num_c))\n",
    "        return choices.index(max(choices))\n",
    "    \n",
    "    def predict (self, X):\n",
    "        return list(self.predict_i(X[i]) for i in range (len(X)));\n",
    "        \n",
    "    def separate(self, X, y):\n",
    "        self.classes_casenum = list(0 for i in range (self.num_c))\n",
    "        self.classes = list(list({'type': self.feature_types[j], 'data': list()} for j in range(self.num_f)) for i in range(self.num_c))\n",
    "        for i in range (len(y)):\n",
    "            for j in range (self.num_f):\n",
    "                self.classes_casenum[y[i]] += 1.0 / len(y)\n",
    "                self.classes[y[i]][j]['data'].append(X[i][j])\n",
    "    def model_class_distribution(self):\n",
    "        for c in range(self.num_c):\n",
    "            for f in range (self.num_f):\n",
    "                #print('number of data points in the list: ', len(self.classes[c][f]['data']))\n",
    "                mean, std, length = calc_stat(self.classes[c][f]['data'])\n",
    "                self.classes[c][f]['mean'] = mean\n",
    "                self.classes[c][f]['std'] = max(std, 1e-6)\n",
    "                self.classes[c][f]['len'] = length\n",
    "    def calc_prob (self, c, f, x, alpha = 1.0):\n",
    "        distr = self.classes[c][f]['type']\n",
    "        mean = self.classes[c][f]['mean']\n",
    "        std = self.classes[c][f]['std']\n",
    "        size = self.classes[c][f]['len']\n",
    "        if distr == 'r':\n",
    "            exponent = exp(-((x - mean) ** 2 / (2 * std ** 2 )))\n",
    "            return (1 / (sqrt(2 * pi) * std)) * exponent\n",
    "        if distr == 'b':\n",
    "            num = mean * size * x + (1 - mean) * size * (1 - x)\n",
    "            return (num + alpha) / (size + self.num_f * alpha) #smoothing\n"
   ]
  },
  {
   "cell_type": "code",
   "execution_count": 24,
   "id": "3fd54b17",
   "metadata": {},
   "outputs": [],
   "source": [
    "from sklearn.linear_model import LogisticRegression\n",
    "# if i want to add 0.1 * wT * w as regularization term, I shoul set penalty to be 'L2' and C tp be '5'"
   ]
  },
  {
   "cell_type": "code",
   "execution_count": 157,
   "id": "188ea42f",
   "metadata": {},
   "outputs": [],
   "source": [
    "def indicator (a, b):\n",
    "    if a == b:\n",
    "        return 0\n",
    "    else:\n",
    "        return 1\n",
    "def test_error (y, y_pred):\n",
    "    return sum([indicator(y[i], y_pred[i]) for i in range (len(y))]) / len(y)\n",
    "def apply (model, X_train, y_train, X_test, y_test):\n",
    "    model.fit(X_train, y_train)\n",
    "    y_pred = model.predict(X_test)#\n",
    "#     print('apply ', y_test, y_pred)\n",
    "    return test_error(y_test, y_pred)"
   ]
  },
  {
   "cell_type": "code",
   "execution_count": 158,
   "id": "35498b5e",
   "metadata": {},
   "outputs": [],
   "source": [
    "def multiapply (model_constructor, X, y, ratio, rounds = 200):\n",
    "    N, D = X.shape\n",
    "    Ntrain = int(ratio * N)\n",
    "    \n",
    "    error = list(0 for i in range (rounds))\n",
    "    for i in range (rounds):\n",
    "        shuffler = np.random.permutation(N)\n",
    "        Xtrain = X[shuffler[:Ntrain]]\n",
    "        ytrain = y[shuffler[:Ntrain]]\n",
    "        Xtest = X[shuffler[Ntrain:]]\n",
    "        ytest = y[shuffler[Ntrain:]]\n",
    "        error[i] = apply(model_constructor(), Xtrain, ytrain, Xtest, ytest)\n",
    "    #print('in multi ', error)\n",
    "    return sum(error)/float(len(error))"
   ]
  },
  {
   "cell_type": "code",
   "execution_count": 159,
   "id": "e10c1f28",
   "metadata": {},
   "outputs": [],
   "source": [
    "def control_apply (X, y, feature_types, num_classes, model_type = 'NBC'):\n",
    "    errors = []\n",
    "    def constructor ():\n",
    "        if model_type == 'NBC':\n",
    "            return NBC(feature_types, num_classes)\n",
    "        elif model_type == 'LR':\n",
    "            return LogisticRegression(max_iter = 200)\n",
    "    for ratio in (0.1 * x for x in range (1, 10)):\n",
    "            errors.append(multiapply(constructor, X, y, ratio, rounds = 200))\n",
    "    print(errors)\n",
    "    return errors"
   ]
  },
  {
   "cell_type": "code",
   "execution_count": 4,
   "id": "f3d05a1a",
   "metadata": {},
   "outputs": [],
   "source": [
    "# Iris Dataset"
   ]
  },
  {
   "cell_type": "code",
   "execution_count": 152,
   "id": "2c74d7df",
   "metadata": {},
   "outputs": [],
   "source": [
    "from sklearn.datasets import load_iris\n",
    "iris = load_iris()\n",
    "X, y = iris['data'], iris['target']"
   ]
  },
  {
   "cell_type": "code",
   "execution_count": 129,
   "id": "1b55fc0d",
   "metadata": {},
   "outputs": [
    {
     "name": "stdout",
     "output_type": "stream",
     "text": [
      "[0.14362962962962966, 0.0937916666666666, 0.07804761904761888, 0.06522222222222207, 0.06319999999999998, 0.05816666666666669, 0.06022222222222211, 0.05516666666666658, 0.049666666666666644]\n"
     ]
    }
   ],
   "source": [
    "# nbc = NBC(feature_ty)\n",
    "nbc_errors = control_apply(X, y, ['r', 'r', 'r', 'r'], 3, model_type = 'NBC')"
   ]
  },
  {
   "cell_type": "code",
   "execution_count": 160,
   "id": "5dd65b71",
   "metadata": {},
   "outputs": [
    {
     "name": "stdout",
     "output_type": "stream",
     "text": [
      "[0.12725925925925918, 0.07091666666666668, 0.0517142857142856, 0.04577777777777769, 0.039400000000000004, 0.03333333333333327, 0.037888888888888805, 0.03549999999999995, 0.03833333333333334]\n"
     ]
    }
   ],
   "source": [
    "lr_errors = control_apply(X, y, ['r', 'r', 'r', 'r'], 3, model_type = 'LR')"
   ]
  },
  {
   "cell_type": "code",
   "execution_count": 147,
   "id": "54985009",
   "metadata": {},
   "outputs": [
    {
     "data": {
      "text/plain": [
       "[<matplotlib.lines.Line2D at 0x7f4023f1fc70>]"
      ]
     },
     "execution_count": 147,
     "metadata": {},
     "output_type": "execute_result"
    },
    {
     "data": {
      "image/png": "[encoded data removed]",
      "text/plain": [
       "<Figure size 432x288 with 1 Axes>"
      ]
     },
     "metadata": {
      "needs_background": "light"
     },
     "output_type": "display_data"
    }
   ],
   "source": [
    "from matplotlib import pyplot as plot \n",
    "\n",
    "plot.plot(list(range(1, 10)), nbc_errors)"
   ]
  },
  {
   "cell_type": "code",
   "execution_count": 161,
   "id": "2fc2a377",
   "metadata": {},
   "outputs": [
    {
     "data": {
      "text/plain": [
       "[<matplotlib.lines.Line2D at 0x7f4023dd3490>]"
      ]
     },
     "execution_count": 161,
     "metadata": {},
     "output_type": "execute_result"
    },
    {
     "data": {
      "image/png": "[encoded data removed]",
      "text/plain": [
       "<Figure size 432x288 with 1 Axes>"
      ]
     },
     "metadata": {
      "needs_background": "light"
     },
     "output_type": "display_data"
    }
   ],
   "source": [
    "from matplotlib import pyplot as plot \n",
    "\n",
    "plot.plot(list(range(1, 10)), lr_errors)"
   ]
  }
 ],
 "metadata": {
  "kernelspec": {
   "display_name": "Python 3 (ipykernel)",
   "language": "python",
   "name": "python3"
  },
  "language_info": {
   "codemirror_mode": {
    "name": "ipython",
    "version": 3
   },
   "file_extension": ".py",
   "mimetype": "text/x-python",
   "name": "python",
   "nbconvert_exporter": "python",
   "pygments_lexer": "ipython3",
   "version": "3.9.7"
  }
 },
 "nbformat": 4,
 "nbformat_minor": 5
}
